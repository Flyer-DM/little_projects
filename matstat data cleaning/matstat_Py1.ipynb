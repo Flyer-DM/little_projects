{
  "nbformat": 4,
  "nbformat_minor": 0,
  "metadata": {
    "colab": {
      "provenance": [],
      "collapsed_sections": []
    },
    "kernelspec": {
      "name": "python3",
      "display_name": "Python 3"
    },
    "language_info": {
      "name": "python"
    }
  },
  "cells": [
    {
      "cell_type": "code",
      "execution_count": 1,
      "metadata": {
        "id": "q46yVHRbIcKm"
      },
      "outputs": [],
      "source": [
        "from matplotlib import pyplot as plt"
      ]
    },
    {
      "cell_type": "markdown",
      "source": [
        "Значения выборки и их сортировка"
      ],
      "metadata": {
        "id": "NkqEi2ebVZGK"
      }
    },
    {
      "cell_type": "code",
      "source": [
        "data = [517_000, 580_000, 645_000, 585_000, 670_000, 720_000, 865_000, 367_000, 650_000,\n",
        "        650_000, 750_000, 635_000, 720_000, 660_000, 650_000, 1_000_000, 700_000, 1_050_000,\n",
        "        745_000, 710_000, 870_000, 650_000, 680_000, 590_000, 748_000, 760_000, 650_000,\n",
        "        699_999, 850_000, 750_000, 730_000, 695_000, 670_000, 690_000, 550_000, 630_000,\n",
        "        690_000, 1_150_000, 730_000, 697_000, 675_000, 720_000, 530_000, 520_000, 669_000,\n",
        "        699_000, 700_000, 799_000, 610_000, 750_000, 670_000, 750_000, 700_000, 840_000,\n",
        "        680_000, 750_000, 605_000, 600_000, 820_000, 650_000, 747_000, 780_000, 680_000,\n",
        "        720_000, 720_000, 520_000, 586_000, 725_000, 695_000, 850_000, 679_000, 648_000,\n",
        "        750_000, 735_000, 1_150_000, 669_000, 735_000, 695_000, 690_000, 625_000, 640_000,\n",
        "        650_000, 750_000, 808_000, 730_000, 684_900, 680_000, 640_000, 685_000, 630_000,\n",
        "        544_721, 700_000, 750_000, 750_000, 550_000, 639_000, 596_000, 660_000, 500_000,\n",
        "        580_000, 600_000, 599_000, 550_000, 660_000, 600_000, 680_000, 710_000, 800_000]  # ценники на Nissan Qashqai 2008 с сайта Авто.ру\n",
        "data.sort()"
      ],
      "metadata": {
        "id": "-dcKVPbFI99i"
      },
      "execution_count": 2,
      "outputs": []
    },
    {
      "cell_type": "markdown",
      "source": [
        "Обработка основными статистическими методами"
      ],
      "metadata": {
        "id": "dZkJ7XIcVdgu"
      }
    },
    {
      "cell_type": "code",
      "source": [
        "length = len(data)\n",
        "mean = round(sum(data) / length, 2)  # среднее арифметическое\n",
        "median = (data[(length + 1) // 2 - 1] + data[length // 2]) // 2  # медиана\n",
        "scope = data[-1] - data[0]  # размах\n",
        "variance = round(sum(map(lambda x: (x - mean) ** 2, data)) / length, 2)  # дисперсия\n",
        "standard_deviation = round(variance ** 0.5, 2)  # среднеквадратическое отклонение\n",
        "variation_coef = round(standard_deviation / mean * 100, 2)  # коэффициент вариации\n",
        "oscillation_coef = round(scope / mean * 100, 2)  # коэффициент осцилляции"
      ],
      "metadata": {
        "id": "xHkRCLWuKncd"
      },
      "execution_count": 3,
      "outputs": []
    },
    {
      "cell_type": "code",
      "source": [
        "plt.hist(data, bins=length // 2)\n",
        "plt.xlabel('price / 1_000_000')\n",
        "plt.ylabel('count')\n",
        "plt.axvline(mean, color='k', linestyle='dashed', linewidth=1)\n",
        "min_ylim, max_ylim = plt.ylim()\n",
        "plt.text(mean, max_ylim*0.9, 'mean', color='k')\n",
        "plt.axvline(median, color='g', linestyle='dashed', linewidth=2)\n",
        "min_ylim, max_ylim = plt.ylim()\n",
        "plt.text(median, max_ylim*0.85, 'median', color='g')\n",
        "plt.show()"
      ],
      "metadata": {
        "colab": {
          "base_uri": "https://localhost:8080/",
          "height": 280
        },
        "id": "r5MbOutik-zk",
        "outputId": "eff73f37-c5ad-4307-e7b7-d2a6a5228959"
      },
      "execution_count": 16,
      "outputs": [
        {
          "output_type": "display_data",
          "data": {
            "text/plain": [
              "<Figure size 432x288 with 1 Axes>"
            ],
            "image/png": "[encoded data removed]"
          },
          "metadata": {
            "needs_background": "light"
          }
        }
      ]
    },
    {
      "cell_type": "code",
      "source": [
        "# первый вариант доверительного интервала\n",
        "p11 = round(median - standard_deviation, 2)\n",
        "p12 = round(median + standard_deviation, 2)\n",
        "# второй вариант доверительного интервала, пусть точность равна 0,95 -> 1,96 по т. Лапласса\n",
        "accuracy = round(1.96 * standard_deviation / length ** 0.5, 2)  # точность оценки\n",
        "p21 = round(mean - accuracy, 2)\n",
        "p22 = round(mean + accuracy, 2)"
      ],
      "metadata": {
        "id": "7ZmnX-9YWmTr"
      },
      "execution_count": 5,
      "outputs": []
    },
    {
      "cell_type": "code",
      "source": [
        "print(p11, p12)\n",
        "print(p21, p22)"
      ],
      "metadata": {
        "colab": {
          "base_uri": "https://localhost:8080/"
        },
        "id": "LV4sR3FCa7Ai",
        "outputId": "8ed8981c-0c27-4b4c-8c99-be4c2bcfcc2d"
      },
      "execution_count": 6,
      "outputs": [
        {
          "output_type": "stream",
          "name": "stdout",
          "text": [
            "571176.52 798723.48\n",
            "671612.76 714528.36\n"
          ]
        }
      ]
    },
    {
      "cell_type": "markdown",
      "source": [
        "Получение реального доверительного интервала на основании двух предыдущих, найденных по разным формулам."
      ],
      "metadata": {
        "id": "5mi9f9RPF2Ab"
      }
    },
    {
      "cell_type": "code",
      "source": [
        "real_p1 = max((p11, p21))\n",
        "real_p2 = min((p12, p22))"
      ],
      "metadata": {
        "id": "OCoEF_v8hBAM"
      },
      "execution_count": 7,
      "outputs": []
    },
    {
      "cell_type": "code",
      "source": [
        "print(real_p1, real_p2)"
      ],
      "metadata": {
        "colab": {
          "base_uri": "https://localhost:8080/"
        },
        "id": "UHPjC93yhCai",
        "outputId": "241388f8-789b-45f5-fc75-d1f3a7a16ab4"
      },
      "execution_count": 8,
      "outputs": [
        {
          "output_type": "stream",
          "name": "stdout",
          "text": [
            "671612.76 714528.36\n"
          ]
        }
      ]
    },
    {
      "cell_type": "code",
      "source": [
        "plt.plot([p11, p12], [1, 1], [p21, p22], [2, 2], [real_p1, real_p2], [1.5, 1.5], marker='o')\n",
        "plt.text(660_000, 1.55, r'Итоговый интервал', fontsize=10)\n",
        "plt.show()"
      ],
      "metadata": {
        "colab": {
          "base_uri": "https://localhost:8080/",
          "height": 265
        },
        "id": "SfjigbdIHogy",
        "outputId": "19a8b871-efc0-48a8-a84f-357071931182"
      },
      "execution_count": 25,
      "outputs": [
        {
          "output_type": "display_data",
          "data": {
            "text/plain": [
              "<Figure size 432x288 with 1 Axes>"
            ],
            "image/png": "[encoded data removed]"
          },
          "metadata": {
            "needs_background": "light"
          }
        }
      ]
    },
    {
      "cell_type": "code",
      "source": [
        "sorted_data = list(filter(lambda x: real_p1 <= x <= real_p2, data))  # очиста данных"
      ],
      "metadata": {
        "id": "JYL7rcNnmLZ2"
      },
      "execution_count": 11,
      "outputs": []
    },
    {
      "cell_type": "code",
      "source": [
        "plt.hist(sorted_data, bins=len(sorted_data) // 2)\n",
        "plt.xlabel('price')\n",
        "plt.ylabel('count')\n",
        "plt.show()"
      ],
      "metadata": {
        "colab": {
          "base_uri": "https://localhost:8080/",
          "height": 279
        },
        "id": "RLkVWtI4mcxR",
        "outputId": "e102c5ac-30ab-444d-abe0-82f492657527"
      },
      "execution_count": 13,
      "outputs": [
        {
          "output_type": "display_data",
          "data": {
            "text/plain": [
              "<Figure size 432x288 with 1 Axes>"
            ],
            "image/png": "[encoded data removed]"
          },
          "metadata": {
            "needs_background": "light"
          }
        }
      ]
    }
  ]
}